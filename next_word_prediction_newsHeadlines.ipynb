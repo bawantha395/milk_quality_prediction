{
  "cells": [
    {
      "cell_type": "markdown",
      "metadata": {
        "id": "view-in-github",
        "colab_type": "text"
      },
      "source": [
        "<a href=\"https://colab.research.google.com/github/bawantha395/milk_quality_prediction/blob/main/next_word_prediction_newsHeadlines.ipynb\" target=\"_parent\"><img src=\"https://colab.research.google.com/assets/colab-badge.svg\" alt=\"Open In Colab\"/></a>"
      ]
    },
    {
      "cell_type": "markdown",
      "id": "literature-survey",
      "metadata": {
        "id": "literature-survey"
      },
      "source": [
        "# Literature Survey\n",
        "\n",
        "Next-word prediction is a key task in natural language processing that involves predicting the next word in a sentence based on the preceding words. This project aims to develop a next-word prediction model using state-of-the-art deep learning techniques. The model will be built using Recurrent Neural Networks (RNNs) and their advanced variant, Long Short-Term Memory (LSTM) networks, known for their ability to capture long-term dependencies in text.By training these models on large text datasets, we aim to achieve high accuracy in predicting the next word, making the model useful for applications such as text completion, chatbots, and virtual assistants. The project will involve data preprocessing, model implementation, training, evaluation, and fine-tuning to optimize performance."
      ]
    },
    {
      "cell_type": "markdown",
      "id": "dataset-description",
      "metadata": {
        "id": "dataset-description"
      },
      "source": [
        "# Dataset Description\n",
        "\n",
        "The dataset used in this project is sourced from Kaggle and contains news headlines from the month of March 2018.\n",
        "The dataset provides a rich source of textual data suitable for training a next-word prediction model.\n",
        "Each record in the dataset represents a single news headline."
      ]
    },
    {
      "cell_type": "code",
      "execution_count": 2,
      "id": "import-libraries",
      "metadata": {
        "colab": {
          "base_uri": "https://localhost:8080/"
        },
        "id": "import-libraries",
        "outputId": "bc8d9972-d5f3-42c6-e2e5-a710f8cbf2af"
      },
      "outputs": [
        {
          "output_type": "stream",
          "name": "stdout",
          "text": [
            "Requirement already satisfied: keras in /usr/local/lib/python3.10/dist-packages (2.15.0)\n",
            "Requirement already satisfied: tensorflow in /usr/local/lib/python3.10/dist-packages (2.15.0)\n",
            "Requirement already satisfied: absl-py>=1.0.0 in /usr/local/lib/python3.10/dist-packages (from tensorflow) (1.4.0)\n",
            "Requirement already satisfied: astunparse>=1.6.0 in /usr/local/lib/python3.10/dist-packages (from tensorflow) (1.6.3)\n",
            "Requirement already satisfied: flatbuffers>=23.5.26 in /usr/local/lib/python3.10/dist-packages (from tensorflow) (24.3.25)\n",
            "Requirement already satisfied: gast!=0.5.0,!=0.5.1,!=0.5.2,>=0.2.1 in /usr/local/lib/python3.10/dist-packages (from tensorflow) (0.5.4)\n",
            "Requirement already satisfied: google-pasta>=0.1.1 in /usr/local/lib/python3.10/dist-packages (from tensorflow) (0.2.0)\n",
            "Requirement already satisfied: h5py>=2.9.0 in /usr/local/lib/python3.10/dist-packages (from tensorflow) (3.9.0)\n",
            "Requirement already satisfied: libclang>=13.0.0 in /usr/local/lib/python3.10/dist-packages (from tensorflow) (18.1.1)\n",
            "Requirement already satisfied: ml-dtypes~=0.2.0 in /usr/local/lib/python3.10/dist-packages (from tensorflow) (0.2.0)\n",
            "Requirement already satisfied: numpy<2.0.0,>=1.23.5 in /usr/local/lib/python3.10/dist-packages (from tensorflow) (1.25.2)\n",
            "Requirement already satisfied: opt-einsum>=2.3.2 in /usr/local/lib/python3.10/dist-packages (from tensorflow) (3.3.0)\n",
            "Requirement already satisfied: packaging in /usr/local/lib/python3.10/dist-packages (from tensorflow) (24.1)\n",
            "Requirement already satisfied: protobuf!=4.21.0,!=4.21.1,!=4.21.2,!=4.21.3,!=4.21.4,!=4.21.5,<5.0.0dev,>=3.20.3 in /usr/local/lib/python3.10/dist-packages (from tensorflow) (3.20.3)\n",
            "Requirement already satisfied: setuptools in /usr/local/lib/python3.10/dist-packages (from tensorflow) (67.7.2)\n",
            "Requirement already satisfied: six>=1.12.0 in /usr/local/lib/python3.10/dist-packages (from tensorflow) (1.16.0)\n",
            "Requirement already satisfied: termcolor>=1.1.0 in /usr/local/lib/python3.10/dist-packages (from tensorflow) (2.4.0)\n",
            "Requirement already satisfied: typing-extensions>=3.6.6 in /usr/local/lib/python3.10/dist-packages (from tensorflow) (4.12.2)\n",
            "Requirement already satisfied: wrapt<1.15,>=1.11.0 in /usr/local/lib/python3.10/dist-packages (from tensorflow) (1.14.1)\n",
            "Requirement already satisfied: tensorflow-io-gcs-filesystem>=0.23.1 in /usr/local/lib/python3.10/dist-packages (from tensorflow) (0.37.0)\n",
            "Requirement already satisfied: grpcio<2.0,>=1.24.3 in /usr/local/lib/python3.10/dist-packages (from tensorflow) (1.64.1)\n",
            "Requirement already satisfied: tensorboard<2.16,>=2.15 in /usr/local/lib/python3.10/dist-packages (from tensorflow) (2.15.2)\n",
            "Requirement already satisfied: tensorflow-estimator<2.16,>=2.15.0 in /usr/local/lib/python3.10/dist-packages (from tensorflow) (2.15.0)\n",
            "Requirement already satisfied: wheel<1.0,>=0.23.0 in /usr/local/lib/python3.10/dist-packages (from astunparse>=1.6.0->tensorflow) (0.43.0)\n",
            "Requirement already satisfied: google-auth<3,>=1.6.3 in /usr/local/lib/python3.10/dist-packages (from tensorboard<2.16,>=2.15->tensorflow) (2.27.0)\n",
            "Requirement already satisfied: google-auth-oauthlib<2,>=0.5 in /usr/local/lib/python3.10/dist-packages (from tensorboard<2.16,>=2.15->tensorflow) (1.2.0)\n",
            "Requirement already satisfied: markdown>=2.6.8 in /usr/local/lib/python3.10/dist-packages (from tensorboard<2.16,>=2.15->tensorflow) (3.6)\n",
            "Requirement already satisfied: requests<3,>=2.21.0 in /usr/local/lib/python3.10/dist-packages (from tensorboard<2.16,>=2.15->tensorflow) (2.31.0)\n",
            "Requirement already satisfied: tensorboard-data-server<0.8.0,>=0.7.0 in /usr/local/lib/python3.10/dist-packages (from tensorboard<2.16,>=2.15->tensorflow) (0.7.2)\n",
            "Requirement already satisfied: werkzeug>=1.0.1 in /usr/local/lib/python3.10/dist-packages (from tensorboard<2.16,>=2.15->tensorflow) (3.0.3)\n",
            "Requirement already satisfied: cachetools<6.0,>=2.0.0 in /usr/local/lib/python3.10/dist-packages (from google-auth<3,>=1.6.3->tensorboard<2.16,>=2.15->tensorflow) (5.3.3)\n",
            "Requirement already satisfied: pyasn1-modules>=0.2.1 in /usr/local/lib/python3.10/dist-packages (from google-auth<3,>=1.6.3->tensorboard<2.16,>=2.15->tensorflow) (0.4.0)\n",
            "Requirement already satisfied: rsa<5,>=3.1.4 in /usr/local/lib/python3.10/dist-packages (from google-auth<3,>=1.6.3->tensorboard<2.16,>=2.15->tensorflow) (4.9)\n",
            "Requirement already satisfied: requests-oauthlib>=0.7.0 in /usr/local/lib/python3.10/dist-packages (from google-auth-oauthlib<2,>=0.5->tensorboard<2.16,>=2.15->tensorflow) (1.3.1)\n",
            "Requirement already satisfied: charset-normalizer<4,>=2 in /usr/local/lib/python3.10/dist-packages (from requests<3,>=2.21.0->tensorboard<2.16,>=2.15->tensorflow) (3.3.2)\n",
            "Requirement already satisfied: idna<4,>=2.5 in /usr/local/lib/python3.10/dist-packages (from requests<3,>=2.21.0->tensorboard<2.16,>=2.15->tensorflow) (3.7)\n",
            "Requirement already satisfied: urllib3<3,>=1.21.1 in /usr/local/lib/python3.10/dist-packages (from requests<3,>=2.21.0->tensorboard<2.16,>=2.15->tensorflow) (2.0.7)\n",
            "Requirement already satisfied: certifi>=2017.4.17 in /usr/local/lib/python3.10/dist-packages (from requests<3,>=2.21.0->tensorboard<2.16,>=2.15->tensorflow) (2024.6.2)\n",
            "Requirement already satisfied: MarkupSafe>=2.1.1 in /usr/local/lib/python3.10/dist-packages (from werkzeug>=1.0.1->tensorboard<2.16,>=2.15->tensorflow) (2.1.5)\n",
            "Requirement already satisfied: pyasn1<0.7.0,>=0.4.6 in /usr/local/lib/python3.10/dist-packages (from pyasn1-modules>=0.2.1->google-auth<3,>=1.6.3->tensorboard<2.16,>=2.15->tensorflow) (0.6.0)\n",
            "Requirement already satisfied: oauthlib>=3.0.0 in /usr/local/lib/python3.10/dist-packages (from requests-oauthlib>=0.7.0->google-auth-oauthlib<2,>=0.5->tensorboard<2.16,>=2.15->tensorflow) (3.2.2)\n"
          ]
        }
      ],
      "source": [
        "!pip install keras tensorflow\n",
        "\n",
        "import pandas as pd\n",
        "import os\n",
        "import numpy as np\n",
        "\n",
        "import tensorflow as tf\n",
        "from tensorflow.keras.preprocessing.sequence import pad_sequences\n",
        "from tensorflow.keras.layers import Embedding, LSTM, Dense, Bidirectional\n",
        "from tensorflow.keras.preprocessing.text import Tokenizer\n",
        "from tensorflow.keras.models import Sequential\n",
        "from tensorflow.keras.optimizers import Adam"
      ]
    },
    {
      "cell_type": "markdown",
      "id": "zDa185doCyWk",
      "metadata": {
        "id": "zDa185doCyWk"
      },
      "source": [
        "### Install opendatasets and download the dataset"
      ]
    },
    {
      "cell_type": "code",
      "execution_count": 3,
      "id": "load-dataset",
      "metadata": {
        "id": "load-dataset"
      },
      "outputs": [],
      "source": [
        "!pip install opendatasets -q\n",
        "import opendatasets as od"
      ]
    },
    {
      "cell_type": "markdown",
      "id": "VIC3j3Q3C2qz",
      "metadata": {
        "id": "VIC3j3Q3C2qz"
      },
      "source": [
        "### Download the dataset"
      ]
    },
    {
      "cell_type": "code",
      "execution_count": 4,
      "id": "bGjeFfZa-u8-",
      "metadata": {
        "colab": {
          "base_uri": "https://localhost:8080/"
        },
        "id": "bGjeFfZa-u8-",
        "outputId": "68543d47-2c20-466e-adbf-0ebb4d855ab2"
      },
      "outputs": [
        {
          "output_type": "stream",
          "name": "stdout",
          "text": [
            "Please provide your Kaggle credentials to download this dataset. Learn more: http://bit.ly/kaggle-creds\n",
            "Your Kaggle username: sulakshanitasheena\n",
            "Your Kaggle Key: ··········\n",
            "Dataset URL: https://www.kaggle.com/datasets/manishguptads/news-headlines\n",
            "Downloading news-headlines.zip to ./news-headlines\n"
          ]
        },
        {
          "output_type": "stream",
          "name": "stderr",
          "text": [
            "100%|██████████| 243k/243k [00:00<00:00, 585kB/s]"
          ]
        },
        {
          "output_type": "stream",
          "name": "stdout",
          "text": [
            "\n"
          ]
        },
        {
          "output_type": "stream",
          "name": "stderr",
          "text": [
            "\n"
          ]
        }
      ],
      "source": [
        "od.download(\"https://www.kaggle.com/datasets/manishguptads/news-headlines/code\")"
      ]
    },
    {
      "cell_type": "markdown",
      "id": "B0m6UQYYDKgx",
      "metadata": {
        "id": "B0m6UQYYDKgx"
      },
      "source": [
        "### Load the dataset"
      ]
    },
    {
      "cell_type": "code",
      "execution_count": 5,
      "id": "exploratory-data-analysis",
      "metadata": {
        "colab": {
          "base_uri": "https://localhost:8080/",
          "height": 660
        },
        "id": "exploratory-data-analysis",
        "outputId": "26949cc6-2aae-4f04-eff8-8bcf59fae645"
      },
      "outputs": [
        {
          "output_type": "execute_result",
          "data": {
            "text/plain": [
              "                  articleID                                        byline  \\\n",
              "0  5a974697410cf7000162e8a4                         By BINYAMIN APPELBAUM   \n",
              "1  5a974be7410cf7000162e8af             By HELENE COOPER and ERIC SCHMITT   \n",
              "2  5a9752a2410cf7000162e8ba                        By THE EDITORIAL BOARD   \n",
              "3  5a975310410cf7000162e8bd                        By JAVIER C. HERNÁNDEZ   \n",
              "4  5a975406410cf7000162e8c3  By JESSE DRUCKER, KATE KELLY and BEN PROTESS   \n",
              "\n",
              "  documentType                                           headline  \\\n",
              "0      article                      Virtual Coins, Real Resources   \n",
              "1      article       U.S. Advances Military Plans for North Korea   \n",
              "2      article                 Mr. Trump and the ‘Very Bad Judge’   \n",
              "3      article     To Erase Dissent, China Bans Pooh Bear and ‘N’   \n",
              "4      article  Loans Flowed to Kushner Cos. After Visits to t...   \n",
              "\n",
              "                                            keywords  multimedia     newDesk  \\\n",
              "0  ['Bitcoin (Currency)', 'Electric Light and Pow...           1    Business   \n",
              "1  ['United States Defense and Military Forces', ...           1  Washington   \n",
              "2  ['Trump, Donald J', 'Curiel, Gonzalo P', 'Unit...           1   Editorial   \n",
              "3  ['China', 'Xi Jinping', 'Term Limits (Politica...           1     Foreign   \n",
              "4  ['Kushner, Jared', 'Kushner Cos', 'United Stat...           1    Business   \n",
              "\n",
              "   printPage           pubDate   sectionName  \\\n",
              "0          1  01-03-2018 00:17       Economy   \n",
              "1         11  01-03-2018 00:40  Asia Pacific   \n",
              "2         26  01-03-2018 01:08       Unknown   \n",
              "3          1  01-03-2018 01:10  Asia Pacific   \n",
              "4          1  01-03-2018 01:14       Unknown   \n",
              "\n",
              "                                             snippet              source  \\\n",
              "0  America has a productivity problem. One explan...  The New York Times   \n",
              "1  The American military is looking at everything...  The New York Times   \n",
              "2  Can you guess which man is the model public se...  The New York Times   \n",
              "3  Censors swung into action after Mr. Xi’s bid t...  The New York Times   \n",
              "4  Apollo, the private equity firm, and Citigroup...  The New York Times   \n",
              "\n",
              "  typeOfMaterial                                             webURL  \\\n",
              "0           News  https://www.nytimes.com/2018/02/28/business/ec...   \n",
              "1           News  https://www.nytimes.com/2018/02/28/world/asia/...   \n",
              "2      Editorial  https://www.nytimes.com/2018/02/28/opinion/tru...   \n",
              "3           News  https://www.nytimes.com/2018/02/28/world/asia/...   \n",
              "4           News  https://www.nytimes.com/2018/02/28/business/ja...   \n",
              "\n",
              "   articleWordCount  \n",
              "0              1207  \n",
              "1              1215  \n",
              "2              1043  \n",
              "3              1315  \n",
              "4              1566  "
            ],
            "text/html": [
              "\n",
              "  <div id=\"df-0d914f14-ee95-4b4a-b449-d85766780e99\" class=\"colab-df-container\">\n",
              "    <div>\n",
              "<style scoped>\n",
              "    .dataframe tbody tr th:only-of-type {\n",
              "        vertical-align: middle;\n",
              "    }\n",
              "\n",
              "    .dataframe tbody tr th {\n",
              "        vertical-align: top;\n",
              "    }\n",
              "\n",
              "    .dataframe thead th {\n",
              "        text-align: right;\n",
              "    }\n",
              "</style>\n",
              "<table border=\"1\" class=\"dataframe\">\n",
              "  <thead>\n",
              "    <tr style=\"text-align: right;\">\n",
              "      <th></th>\n",
              "      <th>articleID</th>\n",
              "      <th>byline</th>\n",
              "      <th>documentType</th>\n",
              "      <th>headline</th>\n",
              "      <th>keywords</th>\n",
              "      <th>multimedia</th>\n",
              "      <th>newDesk</th>\n",
              "      <th>printPage</th>\n",
              "      <th>pubDate</th>\n",
              "      <th>sectionName</th>\n",
              "      <th>snippet</th>\n",
              "      <th>source</th>\n",
              "      <th>typeOfMaterial</th>\n",
              "      <th>webURL</th>\n",
              "      <th>articleWordCount</th>\n",
              "    </tr>\n",
              "  </thead>\n",
              "  <tbody>\n",
              "    <tr>\n",
              "      <th>0</th>\n",
              "      <td>5a974697410cf7000162e8a4</td>\n",
              "      <td>By BINYAMIN APPELBAUM</td>\n",
              "      <td>article</td>\n",
              "      <td>Virtual Coins, Real Resources</td>\n",
              "      <td>['Bitcoin (Currency)', 'Electric Light and Pow...</td>\n",
              "      <td>1</td>\n",
              "      <td>Business</td>\n",
              "      <td>1</td>\n",
              "      <td>01-03-2018 00:17</td>\n",
              "      <td>Economy</td>\n",
              "      <td>America has a productivity problem. One explan...</td>\n",
              "      <td>The New York Times</td>\n",
              "      <td>News</td>\n",
              "      <td>https://www.nytimes.com/2018/02/28/business/ec...</td>\n",
              "      <td>1207</td>\n",
              "    </tr>\n",
              "    <tr>\n",
              "      <th>1</th>\n",
              "      <td>5a974be7410cf7000162e8af</td>\n",
              "      <td>By HELENE COOPER and ERIC SCHMITT</td>\n",
              "      <td>article</td>\n",
              "      <td>U.S. Advances Military Plans for North Korea</td>\n",
              "      <td>['United States Defense and Military Forces', ...</td>\n",
              "      <td>1</td>\n",
              "      <td>Washington</td>\n",
              "      <td>11</td>\n",
              "      <td>01-03-2018 00:40</td>\n",
              "      <td>Asia Pacific</td>\n",
              "      <td>The American military is looking at everything...</td>\n",
              "      <td>The New York Times</td>\n",
              "      <td>News</td>\n",
              "      <td>https://www.nytimes.com/2018/02/28/world/asia/...</td>\n",
              "      <td>1215</td>\n",
              "    </tr>\n",
              "    <tr>\n",
              "      <th>2</th>\n",
              "      <td>5a9752a2410cf7000162e8ba</td>\n",
              "      <td>By THE EDITORIAL BOARD</td>\n",
              "      <td>article</td>\n",
              "      <td>Mr. Trump and the ‘Very Bad Judge’</td>\n",
              "      <td>['Trump, Donald J', 'Curiel, Gonzalo P', 'Unit...</td>\n",
              "      <td>1</td>\n",
              "      <td>Editorial</td>\n",
              "      <td>26</td>\n",
              "      <td>01-03-2018 01:08</td>\n",
              "      <td>Unknown</td>\n",
              "      <td>Can you guess which man is the model public se...</td>\n",
              "      <td>The New York Times</td>\n",
              "      <td>Editorial</td>\n",
              "      <td>https://www.nytimes.com/2018/02/28/opinion/tru...</td>\n",
              "      <td>1043</td>\n",
              "    </tr>\n",
              "    <tr>\n",
              "      <th>3</th>\n",
              "      <td>5a975310410cf7000162e8bd</td>\n",
              "      <td>By JAVIER C. HERNÁNDEZ</td>\n",
              "      <td>article</td>\n",
              "      <td>To Erase Dissent, China Bans Pooh Bear and ‘N’</td>\n",
              "      <td>['China', 'Xi Jinping', 'Term Limits (Politica...</td>\n",
              "      <td>1</td>\n",
              "      <td>Foreign</td>\n",
              "      <td>1</td>\n",
              "      <td>01-03-2018 01:10</td>\n",
              "      <td>Asia Pacific</td>\n",
              "      <td>Censors swung into action after Mr. Xi’s bid t...</td>\n",
              "      <td>The New York Times</td>\n",
              "      <td>News</td>\n",
              "      <td>https://www.nytimes.com/2018/02/28/world/asia/...</td>\n",
              "      <td>1315</td>\n",
              "    </tr>\n",
              "    <tr>\n",
              "      <th>4</th>\n",
              "      <td>5a975406410cf7000162e8c3</td>\n",
              "      <td>By JESSE DRUCKER, KATE KELLY and BEN PROTESS</td>\n",
              "      <td>article</td>\n",
              "      <td>Loans Flowed to Kushner Cos. After Visits to t...</td>\n",
              "      <td>['Kushner, Jared', 'Kushner Cos', 'United Stat...</td>\n",
              "      <td>1</td>\n",
              "      <td>Business</td>\n",
              "      <td>1</td>\n",
              "      <td>01-03-2018 01:14</td>\n",
              "      <td>Unknown</td>\n",
              "      <td>Apollo, the private equity firm, and Citigroup...</td>\n",
              "      <td>The New York Times</td>\n",
              "      <td>News</td>\n",
              "      <td>https://www.nytimes.com/2018/02/28/business/ja...</td>\n",
              "      <td>1566</td>\n",
              "    </tr>\n",
              "  </tbody>\n",
              "</table>\n",
              "</div>\n",
              "    <div class=\"colab-df-buttons\">\n",
              "\n",
              "  <div class=\"colab-df-container\">\n",
              "    <button class=\"colab-df-convert\" onclick=\"convertToInteractive('df-0d914f14-ee95-4b4a-b449-d85766780e99')\"\n",
              "            title=\"Convert this dataframe to an interactive table.\"\n",
              "            style=\"display:none;\">\n",
              "\n",
              "  <svg xmlns=\"http://www.w3.org/2000/svg\" height=\"24px\" viewBox=\"0 -960 960 960\">\n",
              "    <path d=\"M120-120v-720h720v720H120Zm60-500h600v-160H180v160Zm220 220h160v-160H400v160Zm0 220h160v-160H400v160ZM180-400h160v-160H180v160Zm440 0h160v-160H620v160ZM180-180h160v-160H180v160Zm440 0h160v-160H620v160Z\"/>\n",
              "  </svg>\n",
              "    </button>\n",
              "\n",
              "  <style>\n",
              "    .colab-df-container {\n",
              "      display:flex;\n",
              "      gap: 12px;\n",
              "    }\n",
              "\n",
              "    .colab-df-convert {\n",
              "      background-color: #E8F0FE;\n",
              "      border: none;\n",
              "      border-radius: 50%;\n",
              "      cursor: pointer;\n",
              "      display: none;\n",
              "      fill: #1967D2;\n",
              "      height: 32px;\n",
              "      padding: 0 0 0 0;\n",
              "      width: 32px;\n",
              "    }\n",
              "\n",
              "    .colab-df-convert:hover {\n",
              "      background-color: #E2EBFA;\n",
              "      box-shadow: 0px 1px 2px rgba(60, 64, 67, 0.3), 0px 1px 3px 1px rgba(60, 64, 67, 0.15);\n",
              "      fill: #174EA6;\n",
              "    }\n",
              "\n",
              "    .colab-df-buttons div {\n",
              "      margin-bottom: 4px;\n",
              "    }\n",
              "\n",
              "    [theme=dark] .colab-df-convert {\n",
              "      background-color: #3B4455;\n",
              "      fill: #D2E3FC;\n",
              "    }\n",
              "\n",
              "    [theme=dark] .colab-df-convert:hover {\n",
              "      background-color: #434B5C;\n",
              "      box-shadow: 0px 1px 3px 1px rgba(0, 0, 0, 0.15);\n",
              "      filter: drop-shadow(0px 1px 2px rgba(0, 0, 0, 0.3));\n",
              "      fill: #FFFFFF;\n",
              "    }\n",
              "  </style>\n",
              "\n",
              "    <script>\n",
              "      const buttonEl =\n",
              "        document.querySelector('#df-0d914f14-ee95-4b4a-b449-d85766780e99 button.colab-df-convert');\n",
              "      buttonEl.style.display =\n",
              "        google.colab.kernel.accessAllowed ? 'block' : 'none';\n",
              "\n",
              "      async function convertToInteractive(key) {\n",
              "        const element = document.querySelector('#df-0d914f14-ee95-4b4a-b449-d85766780e99');\n",
              "        const dataTable =\n",
              "          await google.colab.kernel.invokeFunction('convertToInteractive',\n",
              "                                                    [key], {});\n",
              "        if (!dataTable) return;\n",
              "\n",
              "        const docLinkHtml = 'Like what you see? Visit the ' +\n",
              "          '<a target=\"_blank\" href=https://colab.research.google.com/notebooks/data_table.ipynb>data table notebook</a>'\n",
              "          + ' to learn more about interactive tables.';\n",
              "        element.innerHTML = '';\n",
              "        dataTable['output_type'] = 'display_data';\n",
              "        await google.colab.output.renderOutput(dataTable, element);\n",
              "        const docLink = document.createElement('div');\n",
              "        docLink.innerHTML = docLinkHtml;\n",
              "        element.appendChild(docLink);\n",
              "      }\n",
              "    </script>\n",
              "  </div>\n",
              "\n",
              "\n",
              "<div id=\"df-144ff9f5-6bbb-4815-9b24-693ca1cb07f1\">\n",
              "  <button class=\"colab-df-quickchart\" onclick=\"quickchart('df-144ff9f5-6bbb-4815-9b24-693ca1cb07f1')\"\n",
              "            title=\"Suggest charts\"\n",
              "            style=\"display:none;\">\n",
              "\n",
              "<svg xmlns=\"http://www.w3.org/2000/svg\" height=\"24px\"viewBox=\"0 0 24 24\"\n",
              "     width=\"24px\">\n",
              "    <g>\n",
              "        <path d=\"M19 3H5c-1.1 0-2 .9-2 2v14c0 1.1.9 2 2 2h14c1.1 0 2-.9 2-2V5c0-1.1-.9-2-2-2zM9 17H7v-7h2v7zm4 0h-2V7h2v10zm4 0h-2v-4h2v4z\"/>\n",
              "    </g>\n",
              "</svg>\n",
              "  </button>\n",
              "\n",
              "<style>\n",
              "  .colab-df-quickchart {\n",
              "      --bg-color: #E8F0FE;\n",
              "      --fill-color: #1967D2;\n",
              "      --hover-bg-color: #E2EBFA;\n",
              "      --hover-fill-color: #174EA6;\n",
              "      --disabled-fill-color: #AAA;\n",
              "      --disabled-bg-color: #DDD;\n",
              "  }\n",
              "\n",
              "  [theme=dark] .colab-df-quickchart {\n",
              "      --bg-color: #3B4455;\n",
              "      --fill-color: #D2E3FC;\n",
              "      --hover-bg-color: #434B5C;\n",
              "      --hover-fill-color: #FFFFFF;\n",
              "      --disabled-bg-color: #3B4455;\n",
              "      --disabled-fill-color: #666;\n",
              "  }\n",
              "\n",
              "  .colab-df-quickchart {\n",
              "    background-color: var(--bg-color);\n",
              "    border: none;\n",
              "    border-radius: 50%;\n",
              "    cursor: pointer;\n",
              "    display: none;\n",
              "    fill: var(--fill-color);\n",
              "    height: 32px;\n",
              "    padding: 0;\n",
              "    width: 32px;\n",
              "  }\n",
              "\n",
              "  .colab-df-quickchart:hover {\n",
              "    background-color: var(--hover-bg-color);\n",
              "    box-shadow: 0 1px 2px rgba(60, 64, 67, 0.3), 0 1px 3px 1px rgba(60, 64, 67, 0.15);\n",
              "    fill: var(--button-hover-fill-color);\n",
              "  }\n",
              "\n",
              "  .colab-df-quickchart-complete:disabled,\n",
              "  .colab-df-quickchart-complete:disabled:hover {\n",
              "    background-color: var(--disabled-bg-color);\n",
              "    fill: var(--disabled-fill-color);\n",
              "    box-shadow: none;\n",
              "  }\n",
              "\n",
              "  .colab-df-spinner {\n",
              "    border: 2px solid var(--fill-color);\n",
              "    border-color: transparent;\n",
              "    border-bottom-color: var(--fill-color);\n",
              "    animation:\n",
              "      spin 1s steps(1) infinite;\n",
              "  }\n",
              "\n",
              "  @keyframes spin {\n",
              "    0% {\n",
              "      border-color: transparent;\n",
              "      border-bottom-color: var(--fill-color);\n",
              "      border-left-color: var(--fill-color);\n",
              "    }\n",
              "    20% {\n",
              "      border-color: transparent;\n",
              "      border-left-color: var(--fill-color);\n",
              "      border-top-color: var(--fill-color);\n",
              "    }\n",
              "    30% {\n",
              "      border-color: transparent;\n",
              "      border-left-color: var(--fill-color);\n",
              "      border-top-color: var(--fill-color);\n",
              "      border-right-color: var(--fill-color);\n",
              "    }\n",
              "    40% {\n",
              "      border-color: transparent;\n",
              "      border-right-color: var(--fill-color);\n",
              "      border-top-color: var(--fill-color);\n",
              "    }\n",
              "    60% {\n",
              "      border-color: transparent;\n",
              "      border-right-color: var(--fill-color);\n",
              "    }\n",
              "    80% {\n",
              "      border-color: transparent;\n",
              "      border-right-color: var(--fill-color);\n",
              "      border-bottom-color: var(--fill-color);\n",
              "    }\n",
              "    90% {\n",
              "      border-color: transparent;\n",
              "      border-bottom-color: var(--fill-color);\n",
              "    }\n",
              "  }\n",
              "</style>\n",
              "\n",
              "  <script>\n",
              "    async function quickchart(key) {\n",
              "      const quickchartButtonEl =\n",
              "        document.querySelector('#' + key + ' button');\n",
              "      quickchartButtonEl.disabled = true;  // To prevent multiple clicks.\n",
              "      quickchartButtonEl.classList.add('colab-df-spinner');\n",
              "      try {\n",
              "        const charts = await google.colab.kernel.invokeFunction(\n",
              "            'suggestCharts', [key], {});\n",
              "      } catch (error) {\n",
              "        console.error('Error during call to suggestCharts:', error);\n",
              "      }\n",
              "      quickchartButtonEl.classList.remove('colab-df-spinner');\n",
              "      quickchartButtonEl.classList.add('colab-df-quickchart-complete');\n",
              "    }\n",
              "    (() => {\n",
              "      let quickchartButtonEl =\n",
              "        document.querySelector('#df-144ff9f5-6bbb-4815-9b24-693ca1cb07f1 button');\n",
              "      quickchartButtonEl.style.display =\n",
              "        google.colab.kernel.accessAllowed ? 'block' : 'none';\n",
              "    })();\n",
              "  </script>\n",
              "</div>\n",
              "\n",
              "    </div>\n",
              "  </div>\n"
            ],
            "application/vnd.google.colaboratory.intrinsic+json": {
              "type": "dataframe",
              "variable_name": "news_data",
              "summary": "{\n  \"name\": \"news_data\",\n  \"rows\": 1385,\n  \"fields\": [\n    {\n      \"column\": \"articleID\",\n      \"properties\": {\n        \"dtype\": \"string\",\n        \"num_unique_values\": 1385,\n        \"samples\": [\n          \"5ab96d8c47de81a9012178f2\",\n          \"5a9ebea6410cf7000162f1ad\",\n          \"5a9d56d947de81a90120a42c\"\n        ],\n        \"semantic_type\": \"\",\n        \"description\": \"\"\n      }\n    },\n    {\n      \"column\": \"byline\",\n      \"properties\": {\n        \"dtype\": \"string\",\n        \"num_unique_values\": 783,\n        \"samples\": [\n          \"By MARK LANDLER and JIM TANKERSLEY\",\n          \"By TAMMY La GORCE\",\n          \"By JAN RANSOM\"\n        ],\n        \"semantic_type\": \"\",\n        \"description\": \"\"\n      }\n    },\n    {\n      \"column\": \"documentType\",\n      \"properties\": {\n        \"dtype\": \"category\",\n        \"num_unique_values\": 1,\n        \"samples\": [\n          \"article\"\n        ],\n        \"semantic_type\": \"\",\n        \"description\": \"\"\n      }\n    },\n    {\n      \"column\": \"headline\",\n      \"properties\": {\n        \"dtype\": \"string\",\n        \"num_unique_values\": 1246,\n        \"samples\": [\n          \"Celebrity Challenge to Cuomo  Cites Inequality and the M.T.A.\"\n        ],\n        \"semantic_type\": \"\",\n        \"description\": \"\"\n      }\n    },\n    {\n      \"column\": \"keywords\",\n      \"properties\": {\n        \"dtype\": \"string\",\n        \"num_unique_values\": 1237,\n        \"samples\": [\n          \"['United States Politics and Government', 'China', 'International Trade and World Market', 'Trump, Donald J', 'Lighthizer, Robert E', 'Customs (Tariff)']\"\n        ],\n        \"semantic_type\": \"\",\n        \"description\": \"\"\n      }\n    },\n    {\n      \"column\": \"multimedia\",\n      \"properties\": {\n        \"dtype\": \"number\",\n        \"std\": 0,\n        \"min\": 0,\n        \"max\": 1,\n        \"num_unique_values\": 2,\n        \"samples\": [\n          0\n        ],\n        \"semantic_type\": \"\",\n        \"description\": \"\"\n      }\n    },\n    {\n      \"column\": \"newDesk\",\n      \"properties\": {\n        \"dtype\": \"category\",\n        \"num_unique_values\": 38,\n        \"samples\": [\n          \"Investigative\"\n        ],\n        \"semantic_type\": \"\",\n        \"description\": \"\"\n      }\n    },\n    {\n      \"column\": \"printPage\",\n      \"properties\": {\n        \"dtype\": \"number\",\n        \"std\": 9,\n        \"min\": 0,\n        \"max\": 115,\n        \"num_unique_values\": 40,\n        \"samples\": [\n          5\n        ],\n        \"semantic_type\": \"\",\n        \"description\": \"\"\n      }\n    },\n    {\n      \"column\": \"pubDate\",\n      \"properties\": {\n        \"dtype\": \"string\",\n        \"num_unique_values\": 1092,\n        \"samples\": [\n          \"14-03-2018 16:49\"\n        ],\n        \"semantic_type\": \"\",\n        \"description\": \"\"\n      }\n    },\n    {\n      \"column\": \"sectionName\",\n      \"properties\": {\n        \"dtype\": \"category\",\n        \"num_unique_values\": 38,\n        \"samples\": [\n          \"Energy & Environment \"\n        ],\n        \"semantic_type\": \"\",\n        \"description\": \"\"\n      }\n    },\n    {\n      \"column\": \"snippet\",\n      \"properties\": {\n        \"dtype\": \"string\",\n        \"num_unique_values\": 1369,\n        \"samples\": [\n          \"As readers turn the page, the portraits undergo an \\u2018interactive\\u2019 transformation that represents the mission of the section.\"\n        ],\n        \"semantic_type\": \"\",\n        \"description\": \"\"\n      }\n    },\n    {\n      \"column\": \"source\",\n      \"properties\": {\n        \"dtype\": \"category\",\n        \"num_unique_values\": 2,\n        \"samples\": [\n          \"International New York Times\"\n        ],\n        \"semantic_type\": \"\",\n        \"description\": \"\"\n      }\n    },\n    {\n      \"column\": \"typeOfMaterial\",\n      \"properties\": {\n        \"dtype\": \"category\",\n        \"num_unique_values\": 8,\n        \"samples\": [\n          \"Editorial\"\n        ],\n        \"semantic_type\": \"\",\n        \"description\": \"\"\n      }\n    },\n    {\n      \"column\": \"webURL\",\n      \"properties\": {\n        \"dtype\": \"string\",\n        \"num_unique_values\": 1385,\n        \"samples\": [\n          \"https://www.nytimes.com/2018/03/26/world/europe/russia-poisoning-expulsions.html\"\n        ],\n        \"semantic_type\": \"\",\n        \"description\": \"\"\n      }\n    },\n    {\n      \"column\": \"articleWordCount\",\n      \"properties\": {\n        \"dtype\": \"number\",\n        \"std\": 785,\n        \"min\": 55,\n        \"max\": 11491,\n        \"num_unique_values\": 944,\n        \"samples\": [\n          970\n        ],\n        \"semantic_type\": \"\",\n        \"description\": \"\"\n      }\n    }\n  ]\n}"
            }
          },
          "metadata": {},
          "execution_count": 5
        }
      ],
      "source": [
        "news_data = pd.read_csv(\"/content/news-headlines/ArticlesMarch2018.csv\")\n",
        "news_data.head()"
      ]
    },
    {
      "cell_type": "code",
      "execution_count": 6,
      "id": "number-of-records",
      "metadata": {
        "colab": {
          "base_uri": "https://localhost:8080/"
        },
        "id": "number-of-records",
        "outputId": "64346f2a-1f21-4dd6-f0a6-d03b80881f7f"
      },
      "outputs": [
        {
          "output_type": "stream",
          "name": "stdout",
          "text": [
            "Number of records:  1385\n",
            "Number of fields:  15\n"
          ]
        }
      ],
      "source": [
        "print(\"Number of records: \", news_data.shape[0])\n",
        "print(\"Number of fields: \", news_data.shape[1])"
      ]
    },
    {
      "cell_type": "markdown",
      "id": "qTi7Y7eO_DJJ",
      "metadata": {
        "id": "qTi7Y7eO_DJJ"
      },
      "source": [
        "# Exploratory Data Analysis\n",
        "\n",
        "Exploratory Data Analysis (EDA) involves analyzing the dataset to summarize its main characteristics, often using visual methods.\n",
        "For this dataset, we can explore the distribution of headline lengths, the most common words, and other relevant statistics.\n"
      ]
    },
    {
      "cell_type": "markdown",
      "id": "wuh6SvdrDUiv",
      "metadata": {
        "id": "wuh6SvdrDUiv"
      },
      "source": [
        "### Display the first few records and some basic statistics"
      ]
    },
    {
      "cell_type": "code",
      "execution_count": 7,
      "id": "headlines",
      "metadata": {
        "colab": {
          "base_uri": "https://localhost:8080/"
        },
        "id": "headlines",
        "outputId": "369f53f0-1247-45ce-a0ba-d5cb4ae86815"
      },
      "outputs": [
        {
          "output_type": "stream",
          "name": "stdout",
          "text": [
            "0                        Virtual Coins, Real Resources\n",
            "1         U.S. Advances Military Plans for North Korea\n",
            "2                   Mr. Trump and the ‘Very Bad Judge’\n",
            "3       To Erase Dissent, China Bans Pooh Bear and ‘N’\n",
            "4    Loans Flowed to Kushner Cos. After Visits to t...\n",
            "Name: headline, dtype: object\n",
            "count        1385\n",
            "unique       1246\n",
            "top       Unknown\n",
            "freq          135\n",
            "Name: headline, dtype: object\n"
          ]
        }
      ],
      "source": [
        "print(news_data['headline'].head())\n",
        "print(news_data['headline'].describe())"
      ]
    },
    {
      "cell_type": "markdown",
      "id": "data-preprocessing",
      "metadata": {
        "id": "data-preprocessing"
      },
      "source": [
        "# Data Preprocessing\n",
        "\n",
        "Data preprocessing is a crucial step in preparing the data for model training.\n",
        "It includes tasks such as removing unwanted characters, tokenizing the text, and creating sequences of words for model input."
      ]
    },
    {
      "cell_type": "markdown",
      "id": "G0QXaIaZ_ZZf",
      "metadata": {
        "id": "G0QXaIaZ_ZZf"
      },
      "source": [
        "### Data cleaning"
      ]
    },
    {
      "cell_type": "code",
      "execution_count": 8,
      "id": "clean-headlines",
      "metadata": {
        "id": "clean-headlines"
      },
      "outputs": [],
      "source": [
        "news_data['headline'] = news_data['headline'].apply(lambda x: x.replace(u'\\xa0',u' '))\n",
        "news_data['headline'] = news_data['headline'].apply(lambda x: x.replace('\\u200a',' '))"
      ]
    },
    {
      "cell_type": "markdown",
      "id": "kbeNUL56_p3c",
      "metadata": {
        "id": "kbeNUL56_p3c"
      },
      "source": [
        "### Tokenization\n",
        "\n",
        "#####Tokenization is a process of extracting tokens (terms / words) from a corpus. Python’s library Keras has inbuilt model for tokenization which can be used to obtain the tokens and their index in the corpus. After this step, every text document in the dataset is converted into sequence of tokens."
      ]
    },
    {
      "cell_type": "code",
      "execution_count": 9,
      "id": "tokenizer",
      "metadata": {
        "colab": {
          "base_uri": "https://localhost:8080/"
        },
        "id": "tokenizer",
        "outputId": "869a9197-1972-4e3d-aaef-ab1fc1965445"
      },
      "outputs": [
        {
          "output_type": "stream",
          "name": "stdout",
          "text": [
            "Total number of words:  3693\n",
            "Word: ID\n",
            "------------\n",
            "<oov>:  1\n",
            "Strong:  3069\n",
            "And:  7\n"
          ]
        }
      ],
      "source": [
        "tokenizer = Tokenizer(oov_token='<oov>') # For those words which are not found in word_index\n",
        "tokenizer.fit_on_texts(news_data['headline'])\n",
        "\n",
        "tokenizer_json = tokenizer.to_json()\n",
        "with open('tokenizer.json', 'w') as file:\n",
        "    file.write(tokenizer_json)\n",
        "\n",
        "total_words = len(tokenizer.word_index) + 1\n",
        "\n",
        "print(\"Total number of words: \", total_words)\n",
        "print(\"Word: ID\")\n",
        "print(\"------------\")\n",
        "print(\"<oov>: \", tokenizer.word_index['<oov>'])\n",
        "print(\"Strong: \", tokenizer.word_index['strong'])\n",
        "print(\"And: \", tokenizer.word_index['and'])"
      ]
    },
    {
      "cell_type": "markdown",
      "id": "yzrkz2dS_w63",
      "metadata": {
        "id": "yzrkz2dS_w63"
      },
      "source": [
        "### Creating sequences of words"
      ]
    },
    {
      "cell_type": "code",
      "execution_count": 10,
      "id": "create-sequences",
      "metadata": {
        "colab": {
          "base_uri": "https://localhost:8080/"
        },
        "id": "create-sequences",
        "outputId": "fc9cc0b4-a145-4213-9f88-949eb8b7572a"
      },
      "outputs": [
        {
          "output_type": "stream",
          "name": "stdout",
          "text": [
            "Total input sequences:  8290\n"
          ]
        }
      ],
      "source": [
        "input_sequences = []\n",
        "for line in news_data['headline']:\n",
        "    token_list = tokenizer.texts_to_sequences([line])[0]\n",
        "    for i in range(1, len(token_list)):\n",
        "        n_gram_sequence = token_list[:i+1]\n",
        "        input_sequences.append(n_gram_sequence)\n",
        "\n",
        "print(\"Total input sequences: \", len(input_sequences))"
      ]
    },
    {
      "cell_type": "markdown",
      "id": "ha3K91ll__IK",
      "metadata": {
        "id": "ha3K91ll__IK"
      },
      "source": [
        "### Pad sequences"
      ]
    },
    {
      "cell_type": "code",
      "execution_count": 24,
      "id": "pad-sequences",
      "metadata": {
        "colab": {
          "base_uri": "https://localhost:8080/"
        },
        "id": "pad-sequences",
        "outputId": "1f9a0e7e-d742-4303-e624-d03c3095cfa5"
      },
      "outputs": [
        {
          "output_type": "execute_result",
          "data": {
            "text/plain": [
              "array([   0,    0,    0,    0,    0,    0,    0,    0,    0,    0,    0,\n",
              "          0,    0,    0,    0,    0, 1150, 1151,  126], dtype=int32)"
            ]
          },
          "metadata": {},
          "execution_count": 24
        }
      ],
      "source": [
        "max_sequence_len = max([len(x) for x in input_sequences])\n",
        "max_sequence_len\n",
        "input_sequences = np.array(pad_sequences(input_sequences, maxlen=max_sequence_len, padding='pre'))\n",
        "input_sequences[1]"
      ]
    },
    {
      "cell_type": "code",
      "source": [
        "max_length = max([len(input_sequence) for input_sequence in input_sequences])\n",
        "max_length"
      ],
      "metadata": {
        "colab": {
          "base_uri": "https://localhost:8080/"
        },
        "id": "Jz8FRLlpJbq7",
        "outputId": "93846a89-3827-4655-ff7f-0f4ae9f240d6"
      },
      "id": "Jz8FRLlpJbq7",
      "execution_count": 23,
      "outputs": [
        {
          "output_type": "execute_result",
          "data": {
            "text/plain": [
              "19"
            ]
          },
          "metadata": {},
          "execution_count": 23
        }
      ]
    },
    {
      "cell_type": "markdown",
      "id": "xKlNLSS6AEgP",
      "metadata": {
        "id": "xKlNLSS6AEgP"
      },
      "source": [
        "### Create features and label"
      ]
    },
    {
      "cell_type": "code",
      "execution_count": 12,
      "id": "create-features-labels",
      "metadata": {
        "id": "create-features-labels"
      },
      "outputs": [],
      "source": [
        "xs, labels = input_sequences[:,:-1],input_sequences[:,-1]\n",
        "ys = tf.keras.utils.to_categorical(labels, num_classes=total_words)"
      ]
    },
    {
      "cell_type": "code",
      "execution_count": 13,
      "id": "print-features-labels",
      "metadata": {
        "colab": {
          "base_uri": "https://localhost:8080/"
        },
        "id": "print-features-labels",
        "outputId": "c966d7ad-3dc6-4015-bb7d-050bcee2922c"
      },
      "outputs": [
        {
          "output_type": "stream",
          "name": "stdout",
          "text": [
            "[   0    0    0    0    0    0    0    0    0    0    0    0    0    0\n",
            "    0   24   34 1153]\n",
            "614\n",
            "0.0\n"
          ]
        }
      ],
      "source": [
        "print(xs[5])\n",
        "print(labels[5])\n",
        "print(ys[5][14])"
      ]
    },
    {
      "cell_type": "markdown",
      "id": "model-implementation",
      "metadata": {
        "id": "model-implementation"
      },
      "source": [
        "# Model Implementation\n",
        "\n",
        "In this section, we implement the model for next-word prediction.\n",
        "We use a Bidirectional LSTM model with an Embedding layer and a Dense layer with a softmax activation function."
      ]
    },
    {
      "cell_type": "markdown",
      "id": "uyjhrGvmAS6z",
      "metadata": {
        "id": "uyjhrGvmAS6z"
      },
      "source": [
        "### Define the model"
      ]
    },
    {
      "cell_type": "code",
      "execution_count": 14,
      "id": "define-model",
      "metadata": {
        "id": "define-model"
      },
      "outputs": [],
      "source": [
        "model = Sequential()\n",
        "model.add(Embedding(total_words, 100, input_length=max_sequence_len-1))\n",
        "model.add(Bidirectional(LSTM(150)))\n",
        "model.add(Dense(total_words, activation='softmax'))"
      ]
    },
    {
      "cell_type": "markdown",
      "id": "wPoe0MrIAczG",
      "metadata": {
        "id": "wPoe0MrIAczG"
      },
      "source": [
        "### Compile the model"
      ]
    },
    {
      "cell_type": "code",
      "execution_count": 15,
      "id": "kj1XDIicAb58",
      "metadata": {
        "colab": {
          "base_uri": "https://localhost:8080/"
        },
        "id": "kj1XDIicAb58",
        "outputId": "45e647de-41cb-4522-8857-b703e469ee61"
      },
      "outputs": [
        {
          "output_type": "stream",
          "name": "stdout",
          "text": [
            "Model: \"sequential\"\n",
            "_________________________________________________________________\n",
            " Layer (type)                Output Shape              Param #   \n",
            "=================================================================\n",
            " embedding (Embedding)       (None, 18, 100)           369300    \n",
            "                                                                 \n",
            " bidirectional (Bidirection  (None, 300)               301200    \n",
            " al)                                                             \n",
            "                                                                 \n",
            " dense (Dense)               (None, 3693)              1111593   \n",
            "                                                                 \n",
            "=================================================================\n",
            "Total params: 1782093 (6.80 MB)\n",
            "Trainable params: 1782093 (6.80 MB)\n",
            "Non-trainable params: 0 (0.00 Byte)\n",
            "_________________________________________________________________\n",
            "None\n"
          ]
        }
      ],
      "source": [
        "adam = Adam(learning_rate=0.01)\n",
        "model.compile(loss='categorical_crossentropy', optimizer=adam, metrics=['accuracy'])\n",
        "print(model.summary())"
      ]
    },
    {
      "cell_type": "markdown",
      "id": "Kyf1nPvHAiVO",
      "metadata": {
        "id": "Kyf1nPvHAiVO"
      },
      "source": [
        "### Train the model\n",
        "\n"
      ]
    },
    {
      "cell_type": "code",
      "execution_count": 16,
      "id": "train-model",
      "metadata": {
        "colab": {
          "base_uri": "https://localhost:8080/"
        },
        "id": "train-model",
        "outputId": "b5e7ceeb-8a63-4a38-c49b-f6a17964642e"
      },
      "outputs": [
        {
          "output_type": "stream",
          "name": "stdout",
          "text": [
            "Epoch 1/50\n",
            "260/260 [==============================] - 40s 116ms/step - loss: 7.6801 - accuracy: 0.0305\n",
            "Epoch 2/50\n",
            "260/260 [==============================] - 24s 94ms/step - loss: 6.7606 - accuracy: 0.0556\n",
            "Epoch 3/50\n",
            "260/260 [==============================] - 28s 109ms/step - loss: 5.7125 - accuracy: 0.1078\n",
            "Epoch 4/50\n",
            "260/260 [==============================] - 33s 129ms/step - loss: 4.3415 - accuracy: 0.2082\n",
            "Epoch 5/50\n",
            "260/260 [==============================] - 29s 113ms/step - loss: 2.9415 - accuracy: 0.3971\n",
            "Epoch 6/50\n",
            "260/260 [==============================] - 24s 94ms/step - loss: 1.8613 - accuracy: 0.5907\n",
            "Epoch 7/50\n",
            "260/260 [==============================] - 25s 96ms/step - loss: 1.2166 - accuracy: 0.7294\n",
            "Epoch 8/50\n",
            "260/260 [==============================] - 23s 88ms/step - loss: 0.8326 - accuracy: 0.8154\n",
            "Epoch 9/50\n",
            "260/260 [==============================] - 25s 95ms/step - loss: 0.6324 - accuracy: 0.8649\n",
            "Epoch 10/50\n",
            "260/260 [==============================] - 25s 95ms/step - loss: 0.4824 - accuracy: 0.8957\n",
            "Epoch 11/50\n",
            "260/260 [==============================] - 24s 94ms/step - loss: 0.4100 - accuracy: 0.9058\n",
            "Epoch 12/50\n",
            "260/260 [==============================] - 28s 108ms/step - loss: 0.3763 - accuracy: 0.9080\n",
            "Epoch 13/50\n",
            "260/260 [==============================] - 24s 93ms/step - loss: 0.3577 - accuracy: 0.9094\n",
            "Epoch 14/50\n",
            "260/260 [==============================] - 25s 98ms/step - loss: 0.3450 - accuracy: 0.9095\n",
            "Epoch 15/50\n",
            "260/260 [==============================] - 24s 94ms/step - loss: 0.3433 - accuracy: 0.9104\n",
            "Epoch 16/50\n",
            "260/260 [==============================] - 24s 93ms/step - loss: 0.3390 - accuracy: 0.9097\n",
            "Epoch 17/50\n",
            "260/260 [==============================] - 24s 91ms/step - loss: 0.3282 - accuracy: 0.9104\n",
            "Epoch 18/50\n",
            "260/260 [==============================] - 24s 91ms/step - loss: 0.3400 - accuracy: 0.9075\n",
            "Epoch 19/50\n",
            "260/260 [==============================] - 25s 94ms/step - loss: 0.3495 - accuracy: 0.9065\n",
            "Epoch 20/50\n",
            "260/260 [==============================] - 25s 95ms/step - loss: 1.7858 - accuracy: 0.6241\n",
            "Epoch 21/50\n",
            "260/260 [==============================] - 24s 93ms/step - loss: 3.5980 - accuracy: 0.3180\n",
            "Epoch 22/50\n",
            "260/260 [==============================] - 23s 89ms/step - loss: 1.8114 - accuracy: 0.5807\n",
            "Epoch 23/50\n",
            "260/260 [==============================] - 25s 95ms/step - loss: 0.9484 - accuracy: 0.7650\n",
            "Epoch 24/50\n",
            "260/260 [==============================] - 26s 101ms/step - loss: 0.5975 - accuracy: 0.8581\n",
            "Epoch 25/50\n",
            "260/260 [==============================] - 25s 94ms/step - loss: 0.4409 - accuracy: 0.8966\n",
            "Epoch 26/50\n",
            "260/260 [==============================] - 24s 92ms/step - loss: 0.3688 - accuracy: 0.9071\n",
            "Epoch 27/50\n",
            "260/260 [==============================] - 23s 90ms/step - loss: 0.3471 - accuracy: 0.9090\n",
            "Epoch 28/50\n",
            "260/260 [==============================] - 24s 94ms/step - loss: 0.3346 - accuracy: 0.9104\n",
            "Epoch 29/50\n",
            "260/260 [==============================] - 24s 94ms/step - loss: 0.3293 - accuracy: 0.9099\n",
            "Epoch 30/50\n",
            "260/260 [==============================] - 24s 94ms/step - loss: 0.3237 - accuracy: 0.9111\n",
            "Epoch 31/50\n",
            "260/260 [==============================] - 24s 90ms/step - loss: 0.3321 - accuracy: 0.9099\n",
            "Epoch 32/50\n",
            "260/260 [==============================] - 24s 94ms/step - loss: 0.3244 - accuracy: 0.9105\n",
            "Epoch 33/50\n",
            "260/260 [==============================] - 24s 93ms/step - loss: 0.3180 - accuracy: 0.9112\n",
            "Epoch 34/50\n",
            "260/260 [==============================] - 26s 101ms/step - loss: 0.3186 - accuracy: 0.9104\n",
            "Epoch 35/50\n",
            "260/260 [==============================] - 23s 89ms/step - loss: 0.3150 - accuracy: 0.9110\n",
            "Epoch 36/50\n",
            "260/260 [==============================] - 25s 98ms/step - loss: 0.3193 - accuracy: 0.9105\n",
            "Epoch 37/50\n",
            "260/260 [==============================] - 28s 107ms/step - loss: 0.3178 - accuracy: 0.9113\n",
            "Epoch 38/50\n",
            "260/260 [==============================] - 24s 93ms/step - loss: 0.3197 - accuracy: 0.9100\n",
            "Epoch 39/50\n",
            "260/260 [==============================] - 24s 91ms/step - loss: 0.4090 - accuracy: 0.8888\n",
            "Epoch 40/50\n",
            "260/260 [==============================] - 23s 89ms/step - loss: 3.6049 - accuracy: 0.3373\n",
            "Epoch 41/50\n",
            "260/260 [==============================] - 24s 93ms/step - loss: 2.3383 - accuracy: 0.4977\n",
            "Epoch 42/50\n",
            "260/260 [==============================] - 24s 94ms/step - loss: 1.0928 - accuracy: 0.7259\n",
            "Epoch 43/50\n",
            "260/260 [==============================] - 24s 92ms/step - loss: 0.6354 - accuracy: 0.8398\n",
            "Epoch 44/50\n",
            "260/260 [==============================] - 24s 91ms/step - loss: 0.4506 - accuracy: 0.8918\n",
            "Epoch 45/50\n",
            "260/260 [==============================] - 26s 100ms/step - loss: 0.3865 - accuracy: 0.9034\n",
            "Epoch 46/50\n",
            "260/260 [==============================] - 25s 95ms/step - loss: 0.3525 - accuracy: 0.9092\n",
            "Epoch 47/50\n",
            "260/260 [==============================] - 24s 93ms/step - loss: 0.3392 - accuracy: 0.9097\n",
            "Epoch 48/50\n",
            "260/260 [==============================] - 23s 88ms/step - loss: 0.3355 - accuracy: 0.9107\n",
            "Epoch 49/50\n",
            "260/260 [==============================] - 24s 93ms/step - loss: 0.3309 - accuracy: 0.9101\n",
            "Epoch 50/50\n",
            "260/260 [==============================] - 26s 100ms/step - loss: 0.3286 - accuracy: 0.9105\n"
          ]
        }
      ],
      "source": [
        "history = model.fit(xs, ys, epochs=50, verbose=1)"
      ]
    },
    {
      "cell_type": "markdown",
      "id": "model-evaluation",
      "metadata": {
        "id": "model-evaluation"
      },
      "source": [
        "# Model Evaluation and Discussion\n",
        "\n",
        "Model evaluation involves assessing the performance of the model on the training data.\n",
        "We use accuracy and loss metrics to evaluate the model during training.\n",
        "We also visualize the training progress using plots.."
      ]
    },
    {
      "cell_type": "code",
      "execution_count": 17,
      "id": "hMP8zBeaA4ZI",
      "metadata": {
        "id": "hMP8zBeaA4ZI"
      },
      "outputs": [],
      "source": [
        "import matplotlib.pyplot as plt"
      ]
    },
    {
      "cell_type": "code",
      "execution_count": 18,
      "id": "aX-rRoXLA6tv",
      "metadata": {
        "id": "aX-rRoXLA6tv"
      },
      "outputs": [],
      "source": [
        "def plot_graphs(history, string):\n",
        "    plt.plot(history.history[string])\n",
        "    plt.xlabel(\"Epochs\")\n",
        "    plt.ylabel(string)\n",
        "    plt.show()"
      ]
    },
    {
      "cell_type": "code",
      "execution_count": 19,
      "id": "hKQZNBXFA8_M",
      "metadata": {
        "id": "hKQZNBXFA8_M",
        "colab": {
          "base_uri": "https://localhost:8080/",
          "height": 885
        },
        "outputId": "90362954-3889-40e0-f44d-9d4a45b23104"
      },
      "outputs": [
        {
          "output_type": "display_data",
          "data": {
            "text/plain": [
              "<Figure size 640x480 with 1 Axes>"
            ],
            "image/png": "[encoded data removed]"
          },
          "metadata": {}
        },
        {
          "output_type": "display_data",
          "data": {
            "text/plain": [
              "<Figure size 640x480 with 1 Axes>"
            ],
            "image/png": "[encoded data removed]"
          },
          "metadata": {}
        }
      ],
      "source": [
        "plot_graphs(history, 'accuracy')\n",
        "plot_graphs(history, 'loss')"
      ]
    },
    {
      "cell_type": "markdown",
      "id": "EQYnyoo3BJ1U",
      "metadata": {
        "id": "EQYnyoo3BJ1U"
      },
      "source": [
        "# Conclusion\n",
        "\n",
        "In this project, we developed a next-word prediction model using a Bidirectional LSTM.\n",
        "The model was trained on a dataset of news headlines, and we evaluated its performance using accuracy and loss metrics.\n",
        "The results indicate that the model is capable of predicting the next word in a given sequence with reasonable accuracy."
      ]
    },
    {
      "cell_type": "markdown",
      "id": "9p4Jr12EBSFo",
      "metadata": {
        "id": "9p4Jr12EBSFo"
      },
      "source": [
        "# References\n",
        "\n",
        "1. Gupta, M. (2021). News Headlines. Retrieved from https://www.kaggle.com/datasets/manishguptads/news-headlines/code"
      ]
    },
    {
      "cell_type": "markdown",
      "id": "VvAOUkYtBeJ-",
      "metadata": {
        "id": "VvAOUkYtBeJ-"
      },
      "source": [
        "### Saving the model"
      ]
    },
    {
      "cell_type": "code",
      "execution_count": 20,
      "id": "omiA8rpiBgSP",
      "metadata": {
        "id": "omiA8rpiBgSP",
        "colab": {
          "base_uri": "https://localhost:8080/"
        },
        "outputId": "76ac3888-8b21-473c-f625-9ccd2f9e03c9"
      },
      "outputs": [
        {
          "output_type": "stream",
          "name": "stderr",
          "text": [
            "/usr/local/lib/python3.10/dist-packages/keras/src/engine/training.py:3103: UserWarning: You are saving your model as an HDF5 file via `model.save()`. This file format is considered legacy. We recommend using instead the native Keras format, e.g. `model.save('my_model.keras')`.\n",
            "  saving_api.save_model(\n"
          ]
        }
      ],
      "source": [
        "model.save(\"next_word_prediction_model.h5\")\n",
        "# model.save(\"next_word_prediction_model\")"
      ]
    },
    {
      "cell_type": "markdown",
      "id": "W2N-hzXrBk_3",
      "metadata": {
        "id": "W2N-hzXrBk_3"
      },
      "source": [
        "### Text Generation Function\n",
        "\n",
        "This function takes a seed text and generates the next words based on the trained model."
      ]
    },
    {
      "cell_type": "code",
      "execution_count": 21,
      "id": "evaluate-model",
      "metadata": {
        "id": "evaluate-model"
      },
      "outputs": [],
      "source": [
        "def generate_text(model, tokenizer, seed_text, max_sequence_len, next_words):\n",
        "    for _ in range(next_words):\n",
        "        token_list = tokenizer.texts_to_sequences([seed_text])[0]\n",
        "        token_list = pad_sequences([token_list], maxlen=max_sequence_len - 1, padding='pre')\n",
        "        predicted = model.predict(token_list, verbose=0)\n",
        "        predicted = np.argmax(predicted, axis=1)\n",
        "        output_word = \"\"\n",
        "        for word, index in tokenizer.word_index.items():\n",
        "            if index == predicted:\n",
        "                output_word = word\n",
        "                break\n",
        "        seed_text += \" \" + output_word\n",
        "    return seed_text"
      ]
    },
    {
      "cell_type": "markdown",
      "id": "conclusion",
      "metadata": {
        "id": "conclusion"
      },
      "source": [
        "### Example usage"
      ]
    },
    {
      "cell_type": "code",
      "execution_count": 22,
      "id": "HtV9tIitB0Wn",
      "metadata": {
        "id": "HtV9tIitB0Wn",
        "colab": {
          "base_uri": "https://localhost:8080/"
        },
        "outputId": "70956413-3ac7-4695-8a0e-a7e230102c39"
      },
      "outputs": [
        {
          "output_type": "stream",
          "name": "stdout",
          "text": [
            "I am goes so hollywood to last\n"
          ]
        }
      ],
      "source": [
        "seed_text = \"I am\"\n",
        "next_words = 5\n",
        "generated_text = generate_text(model, tokenizer, seed_text, max_sequence_len, next_words)\n",
        "print(generated_text)"
      ]
    }
  ],
  "metadata": {
    "accelerator": "TPU",
    "colab": {
      "gpuType": "V28",
      "provenance": [],
      "include_colab_link": true
    },
    "kernelspec": {
      "display_name": "Python 3",
      "name": "python3"
    },
    "language_info": {
      "codemirror_mode": {
        "name": "ipython",
        "version": 3
      },
      "file_extension": ".py",
      "mimetype": "text/x-python",
      "name": "python",
      "nbconvert_exporter": "python",
      "pygments_lexer": "ipython3",
      "version": "3.11.5"
    }
  },
  "nbformat": 4,
  "nbformat_minor": 5
}